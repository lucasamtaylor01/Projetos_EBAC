{
 "cells": [
  {
   "metadata": {},
   "cell_type": "markdown",
   "source": [
    "## Coletando dados da Web 🌐\n",
    "\n",
    "Na aula, o professor apresentou três métodos de web scraping:\n",
    "1. requests\n",
    "2. BeautifulSoup\n",
    "3. Pandas"
   ],
   "id": "e3bc6fe331adbb2e"
  },
  {
   "metadata": {
    "ExecuteTime": {
     "end_time": "2025-01-03T23:43:20.644384Z",
     "start_time": "2025-01-03T23:43:19.971457Z"
    }
   },
   "cell_type": "code",
   "source": [
    "import requests\n",
    "print(\"Testando requests\")\n",
    "response = requests.get('https://a.co/d/8LYV2KJ')\n",
    "print(response.text[:600])"
   ],
   "id": "abcc5b4689ccb97b",
   "outputs": [
    {
     "name": "stdout",
     "output_type": "stream",
     "text": [
      "Testando requests\n",
      "<!doctype html><html lang=\"pt-br\" class=\"a-no-js\" data-19ax5a9jf=\"dingo\"><!-- sp:feature:head-start -->\n",
      "<head><script>var aPageStart = (new Date()).getTime();</script><meta charset=\"utf-8\"/>\n",
      "<!-- sp:end-feature:head-start -->\n",
      "<!-- sp:feature:csm:head-open-part1 -->\n",
      "\n",
      "<script type='text/javascript'>var ue_t0=ue_t0||+new Date();</script>\n",
      "<!-- sp:end-feature:csm:head-open-part1 -->\n",
      "<!-- sp:feature:cs-optimization -->\n",
      "<meta http-equiv='x-dns-prefetch-control' content='on'>\n",
      "<link rel=\"dns-prefetch\" href=\"https://images-na.ssl-images-amazon.com\">\n",
      "<link rel=\"dns-prefetch\" href=\"https://m.media-amazon.\n"
     ]
    }
   ],
   "execution_count": 9
  },
  {
   "metadata": {
    "ExecuteTime": {
     "end_time": "2025-01-03T23:46:29.847495Z",
     "start_time": "2025-01-03T23:46:29.042219Z"
    }
   },
   "cell_type": "code",
   "source": [
    "import requests\n",
    "from bs4 import BeautifulSoup\n",
    "\n",
    "response = requests.get('https://a.co/d/8LYV2KJ')\n",
    "soup = BeautifulSoup(response.text, 'html.parser')\n",
    "print(soup.prettify()[:600])"
   ],
   "id": "15287c236aa36150",
   "outputs": [
    {
     "name": "stdout",
     "output_type": "stream",
     "text": [
      "<!DOCTYPE html>\n",
      "<html class=\"a-no-js\" data-19ax5a9jf=\"dingo\" lang=\"pt-br\">\n",
      " <!-- sp:feature:head-start -->\n",
      " <head>\n",
      "  <script>\n",
      "   var aPageStart = (new Date()).getTime();\n",
      "  </script>\n",
      "  <meta charset=\"utf-8\"/>\n",
      "  <!-- sp:end-feature:head-start -->\n",
      "  <!-- sp:feature:csm:head-open-part1 -->\n",
      "  <script type=\"text/javascript\">\n",
      "   var ue_t0=ue_t0||+new Date();\n",
      "  </script>\n",
      "  <!-- sp:end-feature:csm:head-open-part1 -->\n",
      "  <!-- sp:feature:cs-optimization -->\n",
      "  <meta content=\"on\" http-equiv=\"x-dns-prefetch-control\"/>\n",
      "  <link href=\"https://images-na.ssl-images-amazon.com\" rel=\"dns-prefetch\"/>\n",
      "  <link href=\"h\n"
     ]
    }
   ],
   "execution_count": 12
  },
  {
   "metadata": {
    "ExecuteTime": {
     "end_time": "2025-01-03T23:46:43.202612Z",
     "start_time": "2025-01-03T23:46:42.509043Z"
    }
   },
   "cell_type": "code",
   "source": [
    "import pandas\n",
    "\n",
    "print(\"Testando pandas\")\n",
    "url_dados = pandas.read_html('https://a.co/d/8LYV2KJ')\n",
    "\n",
    "print(url_dados[0].head(10))"
   ],
   "id": "5a54aa2d042d2315",
   "outputs": [
    {
     "name": "stdout",
     "output_type": "stream",
     "text": [
      "Testando pandas\n",
      "                                 0          1\n",
      "0                            Marca        AOC\n",
      "1                  Tamanho da tela       23.8\n",
      "2                        Resolução  FHD 1080p\n",
      "3                Proporção de tela       16:9\n",
      "4  Descrição da superfície da tela      Fosco\n"
     ]
    }
   ],
   "execution_count": 13
  }
 ],
 "metadata": {
  "kernelspec": {
   "name": "python3",
   "language": "python",
   "display_name": "Python 3 (ipykernel)"
  }
 },
 "nbformat": 5,
 "nbformat_minor": 9
}
