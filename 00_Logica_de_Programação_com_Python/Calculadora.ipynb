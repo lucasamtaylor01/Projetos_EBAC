{
  "cells": [
    {
      "cell_type": "markdown",
      "metadata": {
        "id": "rHujkOGH8Q66"
      },
      "source": [
        "# 📚 Documentação\n",
        "\n",
        "## 🔍 Visão geral\n",
        "O programa é uma calculadora que recebe duas variáveis fornecidas pelo usuário. Em seguida, o usuário escolhe uma das quatro operações matemáticas básicas: adição, subtração, multiplicação ou divisão. O programa realiza a operação escolhida entre as duas variáveis inseridas.\n",
        "\n",
        "## ⚙️ Funcionamento do programa\n",
        "O programa funciona da seguinte maneira:\n",
        "1. Apresenta ao usuário informações básicas a respeito da utilização.\n",
        "2. Solicita a entrada de dois valores do tipo `float`.\n",
        "3. Apresenta as quatro operações matemáticas e solicita ao usuário a opção de saída.\n",
        "4. Apresenta o resultado.\n",
        "\n",
        "_Observação:_ A partir do item 2, o usuário entra em um _loop_ (2-4). Caso deseje sair, no passo 3, é fornecido na opção 5 o encerramento do programa.\n"
      ]
    },
    {
      "cell_type": "code",
      "execution_count": null,
      "metadata": {
        "colab": {
          "base_uri": "https://localhost:8080/",
          "height": 756
        },
        "collapsed": true,
        "id": "-Y93dhBx0fIO",
        "outputId": "2348c31a-a474-4544-f509-351c23ed1e36"
      },
      "outputs": [],
      "source": [
        "# Apresentação do programa ao usuário\n",
        "print(\"\\n***CALCULADORA***\\n\")\n",
        "print(\"Como utilizar: \")\n",
        "print(\"1. Preencha os campos com números \\n2. Selecione a operação desejada\\n3. E pronto!\\n\")\n",
        "\n",
        "indicador = 0\n",
        "\n",
        "while indicador == 0:\n",
        "\n",
        "  # Entrada dos valores e conversão para float\n",
        "  a = float(input(\"Insira o primeiro valor: \"))\n",
        "  b = float(input(\"Insira o segundo valor: \"))\n",
        "\n",
        "  # Menu para selecao de quatro operacoes\n",
        "  print(\"\\nSelecione o cálculo que deseja realizar: \\n\")\n",
        "  print(\"DIGITE [1] PARA ADIÇÃO: \", a, \"+\", b)\n",
        "  print(\"DIGITE [2] PARA SUBTRAÇÃO: \", a, \"-\", b)\n",
        "  print(\"DIGITE [3] PARA MULTIPLICAÇÃO: \", a, \"*\", b)\n",
        "  print(\"DIGITE [4] PARA DIVISÃO: \", a, \"/\", b)\n",
        "  print(\"DIGITE [5] PARA SAIR.\\n\")\n",
        "\n",
        "  opcao = int(input(\"Opção selecionada: \"))\n",
        "\n",
        "  # Tratamento para seleção de opção inexistente\n",
        "  if opcao < 1 or opcao > 5:\n",
        "    print(\"\\nParece que você selecionou uma opção inválida... Vamos tentar de novo! \\n\")\n",
        "    continue\n",
        "\n",
        "  # Calculo dos resultados a partir da seleção da opção\n",
        "  else:\n",
        "    if opcao == 1:\n",
        "      soma = a + b\n",
        "      print(a, \"+\", b, \"=\", soma)\n",
        "    elif opcao == 2:\n",
        "      subtracao = a - b\n",
        "      print(a, \"-\", b, \"=\", subtracao)\n",
        "    elif opcao == 3:\n",
        "      produto = a * b\n",
        "      print(a, \"*\", b, \"=\", produto)\n",
        "    elif opcao == 4:\n",
        "      if b == 0:\n",
        "        print(\"Não existe divisão por zero!!\\n\") # Tratamento do erro de divisão por zero\n",
        "      else:\n",
        "        divisao = a / b\n",
        "        print(a, \"/\", b, \"=\", divisao)\n",
        "    else:\n",
        "      print(\"\\nAté a próxima\")\n",
        "      indicador = 12\n",
        "    print(\"\\n----------------------------------------\\n\")"
      ]
    }
  ],
  "metadata": {
    "colab": {
      "provenance": []
    },
    "kernelspec": {
      "display_name": "Python 3",
      "name": "python3"
    },
    "language_info": {
      "codemirror_mode": {
        "name": "ipython",
        "version": 3
      },
      "file_extension": ".py",
      "mimetype": "text/x-python",
      "name": "python",
      "nbconvert_exporter": "python",
      "pygments_lexer": "ipython3",
      "version": "3.10.12"
    }
  },
  "nbformat": 4,
  "nbformat_minor": 0
}
