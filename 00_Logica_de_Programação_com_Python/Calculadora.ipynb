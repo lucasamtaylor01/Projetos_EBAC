{
  "nbformat": 4,
  "nbformat_minor": 0,
  "metadata": {
    "colab": {
      "provenance": []
    },
    "kernelspec": {
      "name": "python3",
      "display_name": "Python 3"
    },
    "language_info": {
      "name": "python"
    }
  },
  "cells": [
    {
      "cell_type": "markdown",
      "source": [
        "# 📚 Documentação\n",
        "\n",
        "## 🔍 Visão geral\n",
        "O programa é uma calculadora que recebe duas variáveis fornecidas pelo usuário. Em seguida, o usuário escolhe uma das quatro operações matemáticas básicas: adição, subtração, multiplicação ou divisão. O programa realiza a operação escolhida entre as duas variáveis inseridas.\n",
        "\n",
        "## ⚙️ Funcionamento do programa\n",
        "O programa funciona da seguinte maneira:\n",
        "1. Apresenta ao usuário informações básicas a respeito da utilização.\n",
        "2. Solicita a entrada de dois valores do tipo `float`.\n",
        "3. Apresenta as quatro operações matemáticas e solicita ao usuário a opção de saída.\n",
        "4. Apresenta o resultado.\n",
        "\n",
        "_Observação:_ A partir do item 2, o usuário entra em um _loop_ (2-4). Caso deseje sair, no passo 3, é fornecido na opção 5 o encerramento do programa.\n"
      ],
      "metadata": {
        "id": "rHujkOGH8Q66"
      }
    },
    {
      "cell_type": "code",
      "source": [
        "# Apresentação do programa ao usuário\n",
        "print(\"\\n***CALCULADORA***\\n\")\n",
        "print(\"Como utilizar: \")\n",
        "print(\"1. Preencha os campos com números \\n2. Selecione a operação desejada\\n3. E pronto!\\n\")\n",
        "\n",
        "indicador = 0\n",
        "\n",
        "while indicador == 0:\n",
        "\n",
        "  # Entrada dos valores e conversão para float\n",
        "  a = float(input(\"Insira o primeiro valor: \"))\n",
        "  b = float(input(\"Insira o segundo valor: \"))\n",
        "\n",
        "  # Menu para selecao de quatro operacoes\n",
        "  print(\"\\nSelecione o cálculo que deseja realizar: \\n\")\n",
        "  print(\"DIGITE [1] PARA ADIÇÃO: \", a, \"+\", b)\n",
        "  print(\"DIGITE [2] PARA SUBTRAÇÃO: \", a, \"-\", b)\n",
        "  print(\"DIGITE [3] PARA MULTIPLICAÇÃO: \", a, \"*\", b)\n",
        "  print(\"DIGITE [4] PARA DIVISÃO: \", a, \"/\", b)\n",
        "  print(\"DIGITE [5] PARA SAIR.\\n\")\n",
        "\n",
        "  opcao = int(input(\"Opção selecionada: \"))\n",
        "\n",
        "  # Tratamento para seleção de opção inexistente\n",
        "  if opcao < 1 or opcao > 5:\n",
        "    print(\"\\nParece que você selecionou uma opção inválida... Vamos tentar de novo! \\n\")\n",
        "    continue\n",
        "\n",
        "  # Calculo dos resultados a partir da seleção da opção\n",
        "  else:\n",
        "    if opcao == 1:\n",
        "      soma = a + b\n",
        "      print(a, \"+\", b, \"=\", soma)\n",
        "    elif opcao == 2:\n",
        "      subtracao = a - b\n",
        "      print(a, \"-\", b, \"=\", subtracao)\n",
        "    elif opcao == 3:\n",
        "      produto = a * b\n",
        "      print(a, \"*\", b, \"=\", produto)\n",
        "    elif opcao == 4:\n",
        "      if b == 0:\n",
        "        print(\"Não existe divisão por zero!!\\n\") # Tratamento do erro de divisão por zero\n",
        "      else:\n",
        "        divisao = a / b\n",
        "        print(a, \"/\", b, \"=\", divisao)\n",
        "    else:\n",
        "      print(\"\\nAté a próxima\")\n",
        "      indicador = 12\n",
        "    print(\"\\n----------------------------------------\\n\")\n",
        "\n"
      ],
      "metadata": {
        "colab": {
          "base_uri": "https://localhost:8080/",
          "height": 756
        },
        "collapsed": true,
        "id": "-Y93dhBx0fIO",
        "outputId": "2348c31a-a474-4544-f509-351c23ed1e36"
      },
      "execution_count": 32,
      "outputs": [
        {
          "output_type": "stream",
          "name": "stdout",
          "text": [
            "\n",
            "***CALCULADORA***\n",
            "\n",
            "Como utilizar: \n",
            "1. Preencha os campos com números \n",
            "2. Selecione a operação desejada\n",
            "3. E pronto!\n",
            "\n",
            "Insira o primeiro valor: 15\n",
            "Insira o segundo valor: 23\n",
            "\n",
            "Selecione o cálculo que deseja realizar: \n",
            "\n",
            "DIGITE [1] PARA ADIÇÃO:  15.0 + 23.0\n",
            "DIGITE [2] PARA SUBTRAÇÃO:  15.0 - 23.0\n",
            "DIGITE [3] PARA MULTIPLICAÇÃO:  15.0 * 23.0\n",
            "DIGITE [4] PARA DIVISÃO:  15.0 / 23.0\n",
            "DIGITE [5] PARA SAIR.\n",
            "\n",
            "Opção selecionada: 15\n",
            "\n",
            "Parece que você selecionou uma opção inválida... Vamos tentar de novo! \n",
            "\n"
          ]
        },
        {
          "output_type": "error",
          "ename": "KeyboardInterrupt",
          "evalue": "Interrupted by user",
          "traceback": [
            "\u001b[0;31m---------------------------------------------------------------------------\u001b[0m",
            "\u001b[0;31mKeyboardInterrupt\u001b[0m                         Traceback (most recent call last)",
            "\u001b[0;32m<ipython-input-32-db3b96f13e4d>\u001b[0m in \u001b[0;36m<cell line: 7>\u001b[0;34m()\u001b[0m\n\u001b[1;32m      8\u001b[0m \u001b[0;34m\u001b[0m\u001b[0m\n\u001b[1;32m      9\u001b[0m   \u001b[0;31m# Entrada dos valores e conversão para float\u001b[0m\u001b[0;34m\u001b[0m\u001b[0;34m\u001b[0m\u001b[0m\n\u001b[0;32m---> 10\u001b[0;31m   \u001b[0ma\u001b[0m \u001b[0;34m=\u001b[0m \u001b[0mfloat\u001b[0m\u001b[0;34m(\u001b[0m\u001b[0minput\u001b[0m\u001b[0;34m(\u001b[0m\u001b[0;34m\"Insira o primeiro valor: \"\u001b[0m\u001b[0;34m)\u001b[0m\u001b[0;34m)\u001b[0m\u001b[0;34m\u001b[0m\u001b[0;34m\u001b[0m\u001b[0m\n\u001b[0m\u001b[1;32m     11\u001b[0m   \u001b[0mb\u001b[0m \u001b[0;34m=\u001b[0m \u001b[0mfloat\u001b[0m\u001b[0;34m(\u001b[0m\u001b[0minput\u001b[0m\u001b[0;34m(\u001b[0m\u001b[0;34m\"Insira o segundo valor: \"\u001b[0m\u001b[0;34m)\u001b[0m\u001b[0;34m)\u001b[0m\u001b[0;34m\u001b[0m\u001b[0;34m\u001b[0m\u001b[0m\n\u001b[1;32m     12\u001b[0m \u001b[0;34m\u001b[0m\u001b[0m\n",
            "\u001b[0;32m/usr/local/lib/python3.10/dist-packages/ipykernel/kernelbase.py\u001b[0m in \u001b[0;36mraw_input\u001b[0;34m(self, prompt)\u001b[0m\n\u001b[1;32m    849\u001b[0m                 \u001b[0;34m\"raw_input was called, but this frontend does not support input requests.\"\u001b[0m\u001b[0;34m\u001b[0m\u001b[0;34m\u001b[0m\u001b[0m\n\u001b[1;32m    850\u001b[0m             )\n\u001b[0;32m--> 851\u001b[0;31m         return self._input_request(str(prompt),\n\u001b[0m\u001b[1;32m    852\u001b[0m             \u001b[0mself\u001b[0m\u001b[0;34m.\u001b[0m\u001b[0m_parent_ident\u001b[0m\u001b[0;34m,\u001b[0m\u001b[0;34m\u001b[0m\u001b[0;34m\u001b[0m\u001b[0m\n\u001b[1;32m    853\u001b[0m             \u001b[0mself\u001b[0m\u001b[0;34m.\u001b[0m\u001b[0m_parent_header\u001b[0m\u001b[0;34m,\u001b[0m\u001b[0;34m\u001b[0m\u001b[0;34m\u001b[0m\u001b[0m\n",
            "\u001b[0;32m/usr/local/lib/python3.10/dist-packages/ipykernel/kernelbase.py\u001b[0m in \u001b[0;36m_input_request\u001b[0;34m(self, prompt, ident, parent, password)\u001b[0m\n\u001b[1;32m    893\u001b[0m             \u001b[0;32mexcept\u001b[0m \u001b[0mKeyboardInterrupt\u001b[0m\u001b[0;34m:\u001b[0m\u001b[0;34m\u001b[0m\u001b[0;34m\u001b[0m\u001b[0m\n\u001b[1;32m    894\u001b[0m                 \u001b[0;31m# re-raise KeyboardInterrupt, to truncate traceback\u001b[0m\u001b[0;34m\u001b[0m\u001b[0;34m\u001b[0m\u001b[0m\n\u001b[0;32m--> 895\u001b[0;31m                 \u001b[0;32mraise\u001b[0m \u001b[0mKeyboardInterrupt\u001b[0m\u001b[0;34m(\u001b[0m\u001b[0;34m\"Interrupted by user\"\u001b[0m\u001b[0;34m)\u001b[0m \u001b[0;32mfrom\u001b[0m \u001b[0;32mNone\u001b[0m\u001b[0;34m\u001b[0m\u001b[0;34m\u001b[0m\u001b[0m\n\u001b[0m\u001b[1;32m    896\u001b[0m             \u001b[0;32mexcept\u001b[0m \u001b[0mException\u001b[0m \u001b[0;32mas\u001b[0m \u001b[0me\u001b[0m\u001b[0;34m:\u001b[0m\u001b[0;34m\u001b[0m\u001b[0;34m\u001b[0m\u001b[0m\n\u001b[1;32m    897\u001b[0m                 \u001b[0mself\u001b[0m\u001b[0;34m.\u001b[0m\u001b[0mlog\u001b[0m\u001b[0;34m.\u001b[0m\u001b[0mwarning\u001b[0m\u001b[0;34m(\u001b[0m\u001b[0;34m\"Invalid Message:\"\u001b[0m\u001b[0;34m,\u001b[0m \u001b[0mexc_info\u001b[0m\u001b[0;34m=\u001b[0m\u001b[0;32mTrue\u001b[0m\u001b[0;34m)\u001b[0m\u001b[0;34m\u001b[0m\u001b[0;34m\u001b[0m\u001b[0m\n",
            "\u001b[0;31mKeyboardInterrupt\u001b[0m: Interrupted by user"
          ]
        }
      ]
    }
  ]
}